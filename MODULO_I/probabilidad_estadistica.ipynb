{
  "nbformat": 4,
  "nbformat_minor": 0,
  "metadata": {
    "colab": {
      "provenance": [],
      "collapsed_sections": [
        "OqrFWULvmbPP",
        "mIRAXpC6sEUr",
        "Jw_TLk41yCZE",
        "dHIEqB1lsVfu",
        "bhIiPHQardbe",
        "A5Lv-kPAxpqT",
        "BlguPFHsTF69",
        "xApcUsRErtqS"
      ],
      "toc_visible": true
    },
    "kernelspec": {
      "name": "python3",
      "display_name": "Python 3"
    },
    "accelerator": "TPU"
  },
  "cells": [
    {
      "cell_type": "markdown",
      "metadata": {
        "id": "xPW0EFuFYcFG"
      },
      "source": [
        "## 1) Población\n",
        "Población:\n",
        "Colección completa de todos los individuos de interés para el investigador.\n",
        "\n",
        "A continuación crearemos una población, compuesta por personas, donde estudiaremos una característica común de ellos. Esta variable es el peso, la que exhibe una distribución Normal con media $\\mu = 70$ y sigma $\\sigma = 5$\n",
        "\n",
        "Las distribuciones normales se aplican a variables continuas, donde la gráfica de su función densidad de proabilidad tiene una forma acampanada y simétrica. Representan más del 50% de los fenomenos industriales estudiados."
      ]
    },
    {
      "cell_type": "code",
      "source": [
        "import numpy as np # importando numpy\n",
        "from scipy import stats # importando scipy.stats\n",
        "import pandas as pd # importando pandas\n",
        "import matplotlib.pyplot as plt #importando matplotlib"
      ],
      "metadata": {
        "id": "8YBEjgUQ1Dko"
      },
      "execution_count": 10,
      "outputs": []
    },
    {
      "cell_type": "code",
      "metadata": {
        "id": "LI931SjuYlOM",
        "outputId": "af1600f0-ac82-4c83-906f-070d8098e82f",
        "colab": {
          "base_uri": "https://localhost:8080/"
        }
      },
      "source": [
        "# Creamos la población de 100 personas utilizando los parámetros comentados\n",
        "media = 70\n",
        "sigma = 5.0\n",
        "size = 100\n",
        "\n",
        "poblacion = np.random.RandomState(seed=2).normal(media, sigma, size)\n",
        "print(poblacion)\n",
        "\n",
        "#Si queremos dejar fijo datos creados, usar semilla:\n",
        "#RandomState(seed=2)"
      ],
      "execution_count": 11,
      "outputs": [
        {
          "output_type": "stream",
          "name": "stdout",
          "text": [
            "[67.91621076 69.71866586 59.31901952 78.20135404 61.03282207 65.79126317\n",
            " 72.51440709 63.77355957 64.71023891 65.45496193 72.75727022 81.46104006\n",
            " 70.20769696 64.41037277 72.6952916  67.0192015  69.90434752 75.8750061\n",
            " 66.26064525 70.04512625 65.60946053 69.21782915 71.28285226 65.05610476\n",
            " 68.30589017 68.81907985 66.81172494 64.06193857 62.89391386 69.23252402\n",
            " 68.6547152  81.15683394 57.82616212 70.56363252 71.85222268 76.79816931\n",
            " 72.50928603 65.77893148 70.00004881 72.71176286 68.43245902 73.85505869\n",
            " 60.65954673 78.65592333 77.33839005 68.32161331 73.0567039  70.23985296\n",
            " 65.85432355 70.43855109 75.00182943 68.09453741 68.12165288 69.62764619\n",
            " 72.16748165 76.39189615 66.82660347 72.54198121 71.08058003 60.70693807\n",
            " 67.90341759 69.33835551 69.8021488  71.63001717 59.79838476 70.23127762\n",
            " 66.61162211 62.80280487 72.62148215 73.67639788 66.73374866 74.21228141\n",
            " 68.09241759 70.33244505 64.50630527 77.92243528 56.70275272 69.54273689\n",
            " 73.47559803 59.83266727 69.05265368 69.61390667 74.12351503 76.2410646\n",
            " 67.98053865 63.07740667 76.83617712 76.08942817 67.68997326 71.75444247\n",
            " 71.90933117 72.83137721 71.02103989 77.03348121 61.31020248 75.20411977\n",
            " 71.90235985 68.91432366 75.86765749 58.28198405]\n"
          ]
        }
      ]
    },
    {
      "cell_type": "markdown",
      "metadata": {
        "id": "8qLl1M8YYkhZ"
      },
      "source": [
        "Otra distribución puede ser la **Distribución Uniforme**, por ejemplo la aplicaremos para simular que la edad de una población de personas sigue este tipo de distribución"
      ]
    },
    {
      "cell_type": "code",
      "metadata": {
        "id": "4YXM0ZdOb6O8",
        "outputId": "58a5f432-fbdb-4665-8371-87dd66776a8b",
        "colab": {
          "base_uri": "https://localhost:8080/"
        }
      },
      "source": [
        "#Para distribución uniforme continua es\n",
        "min= 22\n",
        "max= 78\n",
        "size= 50\n",
        "\n",
        "edad = np.random.uniform(min, max, size)\n",
        "print(edad)\n"
      ],
      "execution_count": 12,
      "outputs": [
        {
          "output_type": "stream",
          "name": "stdout",
          "text": [
            "[56.0722329  26.29446677 76.65368734 33.17692338 54.46984404 65.13670989\n",
            " 73.43330276 70.56505389 68.26621767 27.21175697 48.94523712 23.7137881\n",
            " 49.65431493 57.27120582 73.89796042 50.6098557  56.95650239 59.50520498\n",
            " 51.16876568 52.14634525 61.98215966 50.48887381 46.35825187 29.33537869\n",
            " 60.40703761 32.42152614 48.77065194 53.85015039 30.17063044 35.22038813\n",
            " 24.88476439 76.78109914 48.58119351 45.42986592 30.21598169 41.87159833\n",
            " 69.48212588 27.17635496 45.58285371 52.46802611 23.93703325 22.77665622\n",
            " 31.05577332 52.21782586 58.00952866 54.01567365 72.43388209 77.31526663\n",
            " 77.66197672 54.36881338]\n"
          ]
        }
      ]
    },
    {
      "cell_type": "code",
      "metadata": {
        "id": "q9Ilts3bTLcH",
        "outputId": "7840438f-4d73-471b-e33b-47b9d0d71d54",
        "colab": {
          "base_uri": "https://localhost:8080/"
        }
      },
      "source": [
        "#Si queremos una distribucion uniforme discreta\n",
        "\n",
        "edad2 = np.random.RandomState(seed=1).randint(min, max, size)\n",
        "print(' edad discreta: ', edad2)"
      ],
      "execution_count": 13,
      "outputs": [
        {
          "output_type": "stream",
          "name": "stdout",
          "text": [
            " edad discreta:  [59 65 34 30 31 33 27 37 22 38 23 34 29 67 28 47 72 42 59 40 42 33 64 50\n",
            " 51 36 72 26 45 45 63 71 77 52 54 44 35 63 31 29 44 23 22 39 30 46 35 73\n",
            " 69 64]\n"
          ]
        }
      ]
    },
    {
      "cell_type": "markdown",
      "metadata": {
        "id": "b6Y_IwEQjF9B"
      },
      "source": [
        "## 2) Muestra\n",
        "Subconjunto de la población, y que es representativa de esta.\n",
        "Es importante escoger la muestra en forma aleatoria (al azar), para que sea representativa y en consecuencia se puedan obtener conclusiones más a fines acerca de las características de la población\n"
      ]
    },
    {
      "cell_type": "code",
      "metadata": {
        "id": "hBqB06Voj-3N",
        "outputId": "3088b6e0-dbd6-4441-d394-b28c04d777e5",
        "colab": {
          "base_uri": "https://localhost:8080/"
        }
      },
      "source": [
        "# 1) Haremos un muestreo de la población creada anteriormente de tamaño =4. Tomaremos los cuatro últimos elementos de la población\n",
        "muestra1 = poblacion[96:]\n",
        "print(muestra1)"
      ],
      "execution_count": 14,
      "outputs": [
        {
          "output_type": "stream",
          "name": "stdout",
          "text": [
            "[71.90235985 68.91432366 75.86765749 58.28198405]\n"
          ]
        }
      ]
    },
    {
      "cell_type": "code",
      "metadata": {
        "id": "kihTN7GMkV60",
        "outputId": "2effb7df-ec04-46ae-e86c-aa4a6fc868f6",
        "colab": {
          "base_uri": "https://localhost:8080/"
        }
      },
      "source": [
        "# 2) Haremos un muestreo de la población creada anteriormente de tamaño =10. Tomaremos los diez primeros elementos de la población\n",
        "muestra2 = poblacion[0:10]\n",
        "print(muestra2)"
      ],
      "execution_count": 15,
      "outputs": [
        {
          "output_type": "stream",
          "name": "stdout",
          "text": [
            "[67.91621076 69.71866586 59.31901952 78.20135404 61.03282207 65.79126317\n",
            " 72.51440709 63.77355957 64.71023891 65.45496193]\n"
          ]
        }
      ]
    },
    {
      "cell_type": "code",
      "metadata": {
        "id": "1LKGthDslAj1",
        "outputId": "a741b689-4077-4643-e1b7-87a0901e3d40",
        "colab": {
          "base_uri": "https://localhost:8080/"
        }
      },
      "source": [
        "# 3) Haremos un muestreo de la población creada anteriormente de tamaño =30. Tomaremos elementos de la población de forma \"ALEATORIA\"\n",
        "muestra3 = np.random.RandomState(seed=1).choice(poblacion, 30)\n",
        "print(muestra3)"
      ],
      "execution_count": 8,
      "outputs": [
        {
          "output_type": "stream",
          "name": "stdout",
          "text": [
            "[65.77893148 70.20769696 68.09241759 65.45496193 77.92243528 65.79126317\n",
            " 59.83266727 59.79838476 69.90434752 69.71866586 56.70275272 74.21228141\n",
            " 72.51440709 68.81907985 75.00182943 65.60946053 66.26064525 67.98053865\n",
            " 81.46104006 62.89391386 69.23252402 72.6952916  75.00182943 72.62148215\n",
            " 76.08942817 76.08942817 61.31020248 71.90235985 76.83617712 64.41037277]\n"
          ]
        }
      ]
    },
    {
      "cell_type": "markdown",
      "metadata": {
        "id": "Wn1LS70-lwWN"
      },
      "source": [
        "El anterior es un estilo de muestreo llamado \"aleatorio simple\", el cual, junto con su tamaño, aseguran representatividad, garantizando así que la muestra sea una imagen confiable de la población.\n",
        "\n",
        "**Conclusión**\n",
        "Un buen muestreo aleatorio evita el sesgo muestral, el cual es la tendencia a favorecer la selección de determinados individuos de la población.\n",
        "\n",
        "\n",
        "**Reflexión**\n",
        "¿Por qué muestrear?\n",
        "¿Por qué no usar la población completa (el censo) si es que disponemos de él?"
      ]
    },
    {
      "cell_type": "markdown",
      "metadata": {
        "id": "cMM7tF_QSv7B"
      },
      "source": [
        "## 3) Variables\n",
        "\n",
        "Todo estudio estadístico debe considerar diferentes tipos de variables:\n",
        "\n",
        "* **Variables cualitativas:** Relacionadas con características no numéricas de un individuo (por ejemplo: atributos de una persona, nacionalidad, color de la piel, sexo).\n",
        "  * Nominal (no se pueden ordenar)\n",
        "  * Ordinal (se pueden ordenar por algún criterio)\n",
        "\n",
        "* **Variables cuantitativas:** Relacionadas con características numéricas del individuo por ejemplo: edad, precio de un producto, ingresos anuales. Las variables cuantitativas se dividen en:\n",
        "\n",
        " * Discretas: aquellas que pueden tomar solo algunos valores en un intervalo y no valores intermedio, ejemplo: edad, número de hermanos que puede ser 1, 2, 3....,etc, pero, por ejemplo, nunca podrá ser 3,45, y\n",
        "  * Continuas: aquellas que pueden tomar cualquier valor en un intervalo real, ejemplo: alturas, la velocidad de un vehículo puede ser 80,3 km/h, 94,57 km/h...etc.).\n"
      ]
    },
    {
      "cell_type": "code",
      "metadata": {
        "id": "4eTJrNxFLvWU",
        "outputId": "33a1c92e-aa7d-4681-cf83-609f2d02331d",
        "colab": {
          "base_uri": "https://localhost:8080/",
          "height": 410
        }
      },
      "source": [
        "#crear un tabla resumen de datos cualitativos, por ejemplo asociado a la probabilidad de recomendar de 90 personas encuestadas\n",
        "\n",
        "personas = [20,10,60]\n",
        "NPS = [\"detractor\",\"neutro\",\"promotor\"]\n",
        "\n",
        "\n",
        "plt.pie(personas, labels=NPS, autopct=\"%0.3f %%\")\n",
        "plt.axis(\"equal\")\n",
        "plt.show()\n"
      ],
      "execution_count": 16,
      "outputs": [
        {
          "output_type": "display_data",
          "data": {
            "text/plain": [
              "<Figure size 640x480 with 1 Axes>"
            ],
            "image/png": "[encoded data removed]"
          },
          "metadata": {}
        }
      ]
    },
    {
      "cell_type": "markdown",
      "metadata": {
        "id": "OqrFWULvmbPP"
      },
      "source": [
        "##4) Parámetros\n"
      ]
    },
    {
      "cell_type": "markdown",
      "metadata": {
        "id": "xxawJ_VAnffc"
      },
      "source": [
        "**Parámetro:**  corresponde a un valor que caracteriza un aspecto de la población. Ej.: proporción poblacional, media poblacional, mediana poblacional, desviación estándar poblacional, etc.\n",
        "\n",
        "Procedamos a analizar los parámetros de la población creada inicialmente, llamada \"poblacion\"."
      ]
    },
    {
      "cell_type": "code",
      "metadata": {
        "id": "hCjdsb-In2Lb",
        "outputId": "f318279e-f512-409d-d58c-971a6c049759",
        "colab": {
          "base_uri": "https://localhost:8080/"
        }
      },
      "source": [
        "#calcular la media, mediana y la desviacion estandar\n",
        "N_pob = np.size(poblacion)\n",
        "media_pob = np.mean(poblacion)\n",
        "mediana_pob = np.median(poblacion)\n",
        "desv_pob= np.std(poblacion)\n",
        "\n",
        "print(\"tamaño: \", N_pob)\n",
        "print(\"media: \", media_pob)\n",
        "print(\"mediana: \", mediana_pob)\n",
        "print(\"desv. std: \", desv_pob)\n"
      ],
      "execution_count": 17,
      "outputs": [
        {
          "output_type": "stream",
          "name": "stdout",
          "text": [
            "tamaño:  100\n",
            "media:  69.48129433058702\n",
            "mediana:  69.67315602469922\n",
            "desv. std:  5.185179052849423\n"
          ]
        }
      ]
    },
    {
      "cell_type": "markdown",
      "metadata": {
        "id": "mIRAXpC6sEUr"
      },
      "source": [
        "## 5) Estadísticos\n",
        "\n",
        "Estadístico:  Medida descriptiva de la muestra que se utiliza para estimar al respectivo parámetro poblacional.\n",
        "El estadístico es básicamente lo mismo que el parámetro poblacional, pero se diferencia en que se calcula a partir de la muestra y no de la población, teniendo consigo un error (el cual se minimiza si la muestra es aleatoria y suficientemente grande).\n",
        "\n",
        "Ejemplos de estadísticos: media muestral, mediana muestral, moda muestral, desv. std muestral... proporción muestral"
      ]
    },
    {
      "cell_type": "code",
      "metadata": {
        "id": "WnCkIE41shBX",
        "outputId": "4fa993dd-8100-4e71-f2df-bec5b3667ce7",
        "colab": {
          "base_uri": "https://localhost:8080/"
        }
      },
      "source": [
        "# Calculemos el Estadístico \"Media muestral\" y \"Desv std muestral\" de la muestra aleatoria llamada \"muestra3\"\n",
        "media_muestra3 = np.mean(muestra3)\n",
        "desv_muestra3 = np.std(muestra3)\n",
        "\n",
        "print(\"media muestral: \", media_muestra3)\n",
        "print(\"desv. std muestral: \", desv_muestra3)\n",
        "\n",
        "# La desviación estándar para muestras se denomina \"desviación estándar insesgada\" ya que se calcula dividiendo por (n - 1)\n",
        "print(\"desv. std muestral insesgada: \", desv_muestra3 * ((len(muestra3))**(1/2)/(len(muestra3)-1)**(1/2)))\n",
        "\n",
        "#la forma simple con numpy (n-1 grados de libertad):\n",
        "otra = np.std(muestra3, ddof=(1))\n",
        "print (otra)"
      ],
      "execution_count": 20,
      "outputs": [
        {
          "output_type": "stream",
          "name": "stdout",
          "text": [
            "media muestral:  69.33822721475356\n",
            "desv. std muestral:  5.872344678405996\n",
            "desv. std muestral insesgada:  5.972733910663487\n",
            "5.972733910663486\n"
          ]
        }
      ]
    },
    {
      "cell_type": "markdown",
      "metadata": {
        "id": "Jw_TLk41yCZE"
      },
      "source": [
        "## 6) Error muestral\n",
        "El error muestral:\n",
        "En estadística, error muestral o error de estimación es el error que surge a causa de observar una muestra de la población completa.Es la diferencia entre el valor del parámetro poblacional y el producido por el estadístico muestral.\n",
        "\n",
        "Se concluye fácilmente que una buena técnica de muestreo y una cantidad suficientemente grande reducen el error muestral del estimador."
      ]
    },
    {
      "cell_type": "code",
      "metadata": {
        "id": "obtoNlBUyowv",
        "outputId": "14fc5c2d-f56f-439d-e82e-186e9fed9cd2",
        "colab": {
          "base_uri": "https://localhost:8080/"
        }
      },
      "source": [
        "#mostremos las medias calculadas para poblacion y las muestras\n",
        "print(\"media poblacional: \", media_pob)\n",
        "\n",
        "media_muestra1= np.mean(muestra1)\n",
        "media_muestra2= np.mean(muestra2)\n",
        "\n",
        "print(\"media muestra 1: \", media_muestra1)\n",
        "print(\"media muestra 2: \", media_muestra2)\n",
        "print(\"media muestra 3: \", media_muestra3)\n",
        "\n",
        "error_muestra_1 = abs((media_pob) - (media_muestra1))\n",
        "error_muestra_2 = abs((media_pob) - (media_muestra2))\n",
        "error_muestra_3 = abs((media_pob) - (media_muestra3))\n",
        "\n",
        "\n",
        "print(\"error muestra1: \", error_muestra_1)\n",
        "print(\"error muestra2: \", error_muestra_2)\n",
        "print(\"error muestra3: \", error_muestra_3)"
      ],
      "execution_count": 21,
      "outputs": [
        {
          "output_type": "stream",
          "name": "stdout",
          "text": [
            "media poblacional:  69.48129433058702\n",
            "media muestra 1:  68.74158126120639\n",
            "media muestra 2:  66.84325029200765\n",
            "media muestra 3:  69.33822721475356\n",
            "error muestra1:  0.7397130693806275\n",
            "error muestra2:  2.638044038579366\n",
            "error muestra3:  0.14306711583346043\n"
          ]
        }
      ]
    },
    {
      "cell_type": "markdown",
      "metadata": {
        "id": "7NAtWTHCFn6m"
      },
      "source": [
        "Ahora grafiquemos las medias para ver el error del estimador"
      ]
    },
    {
      "cell_type": "code",
      "metadata": {
        "id": "VsE54RRZFlrk",
        "outputId": "58ccc4b0-4292-406e-fc89-4c489a27b88e",
        "colab": {
          "base_uri": "https://localhost:8080/",
          "height": 477
        }
      },
      "source": [
        "# Declara lista1 con 3 valores de medias\n",
        "lista1 = [np.mean(poblacion),np.mean(muestra1),np.mean(muestra2),np.mean(muestra3)]\n",
        "# Declara lista2 con 3 nombres\n",
        "lista2 = ['Media Poblacional','Media Muestra 1','Media Muestra 2', 'Media Muestra 3']\n",
        "plt.figure(figsize=(10, 5))\n",
        "plt.plot_date(lista2, lista1, color='g')   # Dibuja el gráfico\n",
        "plt.title(\"Error muestral\")   # Establece el título del gráfico\n",
        "plt.xlabel(\"Grupo\")   # Establece el título del eje x\n",
        "plt.ylabel(\"Valor de la media\")   # Establece el título del eje y\n",
        "plt.show()"
      ],
      "execution_count": 22,
      "outputs": [
        {
          "output_type": "display_data",
          "data": {
            "text/plain": [
              "<Figure size 1000x500 with 1 Axes>"
            ],
            "image/png": "[encoded data removed]"
          },
          "metadata": {}
        }
      ]
    },
    {
      "cell_type": "markdown",
      "metadata": {
        "id": "yxxIg7MGF0zR"
      },
      "source": [
        "**Reflexión:**\n",
        "De qué forma podemos producir un estimador de parámetro (Estadístico) más confiable??\n",
        "\n",
        "\n",
        "En la eventualidad de que no tengamos a ciencia cierta el dato del parámetro, y sólo contamos con una muestra, el error muestral se calcula de la siguiente forma para universos infinitos (se desconoce el tamaño o es N> 10.000):\n",
        "\n",
        "```\n",
        "# error = Z a/2 * Sigma pob / raiz(n)\n",
        "```\n",
        "\n",
        "con esta formula, podriamos determinar la cantidad elementos a muestrear, por ejemplo quiero estimar la media de la longitud de las piezas que se producen para un cliente, y quiero tener un error absoluto de 0,4 centimetros, se sabe que la desv. std de pilotos o muestreos anteriores es de 3,2 y quiero tener un nivel de confianza del 95% (Z= 1,96).\n",
        " n = 1,96^2 * 3,2^2  / 2^2  \n",
        " n= 116,20\n"
      ]
    },
    {
      "cell_type": "markdown",
      "metadata": {
        "id": "5LJQF_J3SIZY"
      },
      "source": [
        "## 7) Distribuciones\n",
        "\n",
        "Las variables cuantitativas siguen distintas distribuciones estadísticas, en esta sección veremos:\n",
        "\n",
        "Para variables aleatorias continuas:\n",
        "*   Normal\n",
        "*   Triangular\n",
        "*   Gamma\n",
        "\n",
        "Para variables aleatorias discretas:\n",
        "*   Poisson\n",
        "*   Binomial\n",
        "\n"
      ]
    },
    {
      "cell_type": "markdown",
      "metadata": {
        "id": "dHIEqB1lsVfu"
      },
      "source": [
        "###7.1) Normal\n",
        "Las distribuciones normales representan más del 50% de los fenomenos industriales estudiados. Esta distribución es de carácter continuo (no discreta).\n",
        "\n",
        "Los parámetros de media, mediana y moda en una distribución normal son iguales.\n",
        "\n",
        "La media corresponde al punto en la curva en el cual la pendiente (primera derivada) es cero, y la desviación estándar corresponde a la diferencia de los valores entre el punto de la media y el punto en la curva en los cuales la pendiente cambia de dirección (segunda derivada es 0).\n",
        "\n",
        "A considerar:\n",
        "Entre el primer sigma ($\\sigma$) positivo y el primer sigma negativo se encuentra el 68% de los casos.\n",
        "Entre el segundo sigma positivo y el segundo sigma negativo se encuentra el 95,5% de los casos.\n",
        "Entre el tercer sigma positivo y el tercer sigma negativo se encuentra el 99,73% de los casos."
      ]
    },
    {
      "cell_type": "code",
      "metadata": {
        "id": "a97fSZiaXhxz",
        "outputId": "2dd6c94e-6fb6-41c4-8267-1d34fe444d6d",
        "colab": {
          "base_uri": "https://localhost:8080/"
        }
      },
      "source": [
        "#Volvamos a generar una poblacion de 1000 personas, donde la variable peso sigue una dist. normal\n",
        "# usando numpy: np.random.normal(media, sigma, size)\n",
        "media= 75\n",
        "sigma= 2\n",
        "n= 1000\n",
        "\n",
        "peso = np.random.normal(media, sigma, n)\n",
        "\n",
        "#Muestra los primeros 10 valores de la poblacion\n",
        "print(peso[:10])\n"
      ],
      "execution_count": 23,
      "outputs": [
        {
          "output_type": "stream",
          "name": "stdout",
          "text": [
            "[74.64299505 69.92545978 75.33356591 77.5489692  74.57588116 74.35008241\n",
            " 78.18929581 75.31587836 74.38114687 78.55561023]\n"
          ]
        }
      ]
    },
    {
      "cell_type": "code",
      "metadata": {
        "id": "ozPHEAidYdbk",
        "outputId": "950af11c-e398-489f-ded5-20e9ee1b4955",
        "colab": {
          "base_uri": "https://localhost:8080/"
        }
      },
      "source": [
        "#Ahora calculemos los parámetros\n",
        "media_peso = np.mean(peso)\n",
        "sigma_peso = np.std(peso)\n",
        "\n",
        "\n",
        "print (\"media: \", media_peso)\n",
        "print (\"desv std: \", sigma_peso)"
      ],
      "execution_count": 24,
      "outputs": [
        {
          "output_type": "stream",
          "name": "stdout",
          "text": [
            "media:  75.01500713431751\n",
            "desv std:  2.0578601382206783\n"
          ]
        }
      ]
    },
    {
      "cell_type": "code",
      "metadata": {
        "id": "IFx8I_wwY5LE",
        "outputId": "73c88051-a8c2-4319-bf27-2cd1aa872e4b",
        "colab": {
          "base_uri": "https://localhost:8080/",
          "height": 368
        }
      },
      "source": [
        "#Ahora vamos a graficar un histograma (gráfica de frecuencias) donde:\n",
        "# Eje X: las clases de la variable estudiada\n",
        "# Eje Y: la frecuencia absoluta de cada clase\n",
        "\n",
        "plt.figure(figsize=(10, 4)) #tamaño grafico\n",
        "plt.hist(peso, 20, density=False, cumulative=False, color='b') #con 50 clases y color rojo\n",
        "plt.show()\n"
      ],
      "execution_count": 25,
      "outputs": [
        {
          "output_type": "display_data",
          "data": {
            "text/plain": [
              "<Figure size 1000x400 with 1 Axes>"
            ],
            "image/png": "[encoded data removed]"
          },
          "metadata": {}
        }
      ]
    },
    {
      "cell_type": "code",
      "metadata": {
        "id": "93Idu-E5kjF7",
        "outputId": "d0f1ee3d-89b5-42ce-da75-79081faad5db",
        "colab": {
          "base_uri": "https://localhost:8080/",
          "height": 368
        }
      },
      "source": [
        "#Si queremos incoporar el histograma del peso creado inicialmente, variable que llamamos \"poblacion\"\n",
        "#en este caso para hacerlas comparables debemos trabajar con la frecuencia relativa (density=True)\n",
        "\n",
        "plt.figure(figsize=(10, 4)) #tamaño grafico\n",
        "plt.hist(peso, 50, density=True, cumulative=False, color='r', alpha=0.5, label=\"nuevos\") #con 50 clases y color rojo\n",
        "#Incorporar poblacion inicial\n",
        "plt.hist(poblacion, 50, density=True, color='b', alpha=0.5,label=\"antiguos\")\n",
        "plt.legend()\n",
        "plt.show()\n"
      ],
      "execution_count": 26,
      "outputs": [
        {
          "output_type": "display_data",
          "data": {
            "text/plain": [
              "<Figure size 1000x400 with 1 Axes>"
            ],
            "image/png": "[encoded data removed]"
          },
          "metadata": {}
        }
      ]
    },
    {
      "cell_type": "markdown",
      "metadata": {
        "id": "9_IIsIwRk8pJ"
      },
      "source": [
        "**Reflexión:**\n",
        "Qué vemos en los gráficos?"
      ]
    },
    {
      "cell_type": "markdown",
      "metadata": {
        "id": "bhIiPHQardbe"
      },
      "source": [
        "###7.2) Test de Normalidad\n",
        "Para comprobar si los datos de nuestra población o muestra siguen una distribución normal, utilizaremos un test de normalidad denominado Anderson-Darling, el cual evalúa la hipótesis (y su correspondiente hipótesis nula) de que los datos siguen una distribuión normal:\n",
        "\n",
        "H$_0$ :: los datos siguen una distribución normal\n",
        "\n",
        "H$_1$ :: los datos NO siguen una distribución normal\n",
        "\n",
        "\n",
        "Si el valor arrojado (Test estadístico de Anderson-Darling) es menor al valor crítico dado para un cierto nivel de significanci (e.g.: 5%), se acepta la hipótesis H$_0$, i.e., los datos tienen una distribución normal."
      ]
    },
    {
      "cell_type": "code",
      "metadata": {
        "id": "H4-Vy8Dwsugx",
        "outputId": "34e82ef6-2e4d-4594-dee5-260c12a0df98",
        "colab": {
          "base_uri": "https://localhost:8080/"
        }
      },
      "source": [
        "# Ejecutemos el Test de normalidad de Anderson Darling usaremos libreria Scipy Stats\n",
        "stats.anderson(peso, dist='norm')"
      ],
      "execution_count": 27,
      "outputs": [
        {
          "output_type": "execute_result",
          "data": {
            "text/plain": [
              "AndersonResult(statistic=0.3109474561515526, critical_values=array([0.574, 0.653, 0.784, 0.914, 1.088]), significance_level=array([15. , 10. ,  5. ,  2.5,  1. ]), fit_result=  params: FitParams(loc=75.01500713431751, scale=2.058889840630985)\n",
              " success: True\n",
              " message: '`anderson` successfully fit the distribution to the data.')"
            ]
          },
          "metadata": {},
          "execution_count": 27
        }
      ]
    },
    {
      "cell_type": "markdown",
      "metadata": {
        "id": "QlRbPI3It1Mr"
      },
      "source": [
        "En este caso en valor arrojado es 0,27244, el cual es menor al 0,784 para un nivel de significancia del 5%. Por tanto aceptamos la hipotesis de que los datos siguen una distribución normal.\n"
      ]
    },
    {
      "cell_type": "markdown",
      "metadata": {
        "id": "IJoEFNA0uWa5"
      },
      "source": [
        "Dado que los datos son normales, podemos realizar algunos cálculos de probabilidad, como por ejemplo:\n",
        "\n",
        "Calcular la probabilidad de que tomemos a una persona al azar y esta tenga un peso menor que 72 kg.\n",
        "\n",
        "\n",
        "Para responder esto usaremos la Tabla Z (normal) acumulada, aplicando la siguiente fórmula:\n",
        "\n",
        "`Z = (X - mu) /sigma`\n",
        "\n",
        "\n",
        "donde X es el valor buscado, en este ejemplo 72 kg.\n"
      ]
    },
    {
      "cell_type": "code",
      "metadata": {
        "id": "fHmeQtTKvo8p",
        "outputId": "a4c5a872-70e6-4de7-d68b-c569003e669e",
        "colab": {
          "base_uri": "https://localhost:8080/"
        }
      },
      "source": [
        "#Calcular la prob de que una persona de la población pese menos de 72 kg\n",
        "\n",
        "x = 72 # Valor al que queremos calcular su probabilidad acumulada\n",
        "mu = np.mean(peso)\n",
        "sigma = np.std(peso)\n",
        "\n",
        "Z = (x - mu) / sigma\n",
        "\n",
        "prob72= stats.norm.cdf(Z) # Probabilidad acumulada de infinito negativo al valor buscado\n",
        "print('prob pesar menos de 72 kg: ', prob72)\n",
        "\n",
        "#Otra forma sin aplicar Z, es usar libreria Scipy\n",
        "prob72b = stats.norm(mu, sigma).cdf(x)\n",
        "print('otra forma: ',prob72b)\n"
      ],
      "execution_count": 30,
      "outputs": [
        {
          "output_type": "stream",
          "name": "stdout",
          "text": [
            "prob pesar menos de 72 kg:  0.07144441599361732\n",
            "otra forma:  0.07144441599361732\n"
          ]
        }
      ]
    },
    {
      "cell_type": "code",
      "metadata": {
        "id": "jYV2VXwwxZu0"
      },
      "source": [
        "#Calcular la probabilidad de que una persona pese entre 73 y 79 kilogramos\n",
        "\n"
      ],
      "execution_count": 29,
      "outputs": []
    },
    {
      "cell_type": "markdown",
      "metadata": {
        "id": "VV-z0J9LYNBg"
      },
      "source": [
        "Nota:  Esta distribución y sus aplicaciones de probabilidad son comunmente utilizadas en el método Six Sigma, para inferir no conformidades, porcentajes de defectuosos, y niveles de capacidad de procesos."
      ]
    },
    {
      "cell_type": "markdown",
      "metadata": {
        "id": "A5Lv-kPAxpqT"
      },
      "source": [
        "###7.3) Triangular\n",
        "\n",
        "Esta distribución es muy simple de utilizar (es continua), y la podemos aplicar cuando tenemos pocos datos y quisieramos simular la distribución de la variable de estudio.  En este caso debemos hablamos con los expertos y preguntamos 3 parametros:\n",
        "*   valor mínimo\n",
        "*   Valor más probable\n",
        "*   valor más alto"
      ]
    },
    {
      "cell_type": "code",
      "metadata": {
        "id": "wsd3E76DgEL6",
        "outputId": "323a16a3-a4f1-455f-c15d-49cd65cdfde1",
        "colab": {
          "base_uri": "https://localhost:8080/",
          "height": 760
        }
      },
      "source": [
        "#Ejemplo queremos simular el tiempo de que esperan los clientes en el proceso de atención de una sucursal\n",
        "min= 12\n",
        "mp = 44 #mas probable\n",
        "max= 58\n",
        "size= 100\n",
        "\n",
        "tiempo = np.random.triangular(min, mp, max, size)\n",
        "print(tiempo)\n",
        "\n",
        "#luego graficamos un histograma\n",
        "plt.hist(tiempo, range(5, 70, 5)) #incoporamos rango\n",
        "plt.show\n",
        "\n",
        "#calcular media y sigma\n",
        "media= np.mean(tiempo)\n",
        "sigma= np.std(tiempo)\n",
        "\n",
        "print('media: ', media)\n",
        "print('desv std: ', sigma)"
      ],
      "execution_count": 31,
      "outputs": [
        {
          "output_type": "stream",
          "name": "stdout",
          "text": [
            "[22.89750089 49.36306615 41.99581934 29.62905839 45.61298502 20.97598783\n",
            " 47.17701442 49.6037542  26.16812285 31.80145795 46.84843961 35.29845999\n",
            " 43.48634801 36.16942128 33.16364689 53.01318192 53.52938864 19.60240555\n",
            " 46.74110955 36.56412483 48.37102449 38.55926663 31.74776772 44.17438346\n",
            " 26.46767854 45.30576356 39.15584016 50.62488328 33.96719467 37.72495645\n",
            " 46.97721408 25.42880168 45.33541472 27.62751873 38.56109815 40.8053111\n",
            " 33.60562193 42.35071652 41.63882139 49.8217438  42.88061747 19.70399725\n",
            " 31.19831538 54.3039555  47.23397943 37.26371779 27.6657196  26.13747849\n",
            " 41.57403641 30.1613796  26.38853854 24.08503638 28.49523706 39.714853\n",
            " 51.07716398 28.1718975  41.47631156 29.59581819 42.74898175 49.8991255\n",
            " 21.4951805  31.34478817 48.15684063 42.5086096  24.61315068 20.96819862\n",
            " 43.70163772 50.91857665 35.94790748 37.8807393  32.33933557 40.30956571\n",
            " 34.64684033 30.18041934 42.92551886 28.03074469 36.75949273 20.9395277\n",
            " 23.64134882 54.37417777 42.63377622 19.30269174 42.49365384 38.40264851\n",
            " 31.30539534 38.32069404 28.6101876  42.53681496 29.88593949 35.52496375\n",
            " 47.0440074  50.60827791 43.6161417  43.98664519 53.28834078 28.33066004\n",
            " 38.562364   25.16348419 42.06240609 29.49036115]\n",
            "media:  37.30520529585584\n",
            "desv std:  9.459456245075307\n"
          ]
        },
        {
          "output_type": "display_data",
          "data": {
            "text/plain": [
              "<Figure size 640x480 with 1 Axes>"
            ],
            "image/png": "[encoded data removed]"
          },
          "metadata": {}
        }
      ]
    },
    {
      "cell_type": "markdown",
      "metadata": {
        "id": "R2SSfJhwKpqf"
      },
      "source": [
        "###7.4) Gamma\n",
        "La distribución Gamma se utiliza con variables continuas (no discretas) que siguen una forma asimétrica (no normales). Ejemplos de fenómenos que se describen con esta distribución son: tiempo de duración de procesos o ciclos productivos, vida útil de baterías y componentes eléctricos, vida de los seres vivos, caducidad de bienes perecibles, tiempo entre llegadas de pedidos de clientes, tiempo entre un despiegue a producción y otro, etc.\n",
        "\n",
        "Crearemos una distribución del tipo Gamma aleatoria en la cual se utilizan dos parámetros:\n",
        "\n",
        "$\\color{red} \\alpha$ : representa el parámetro de la forma\n",
        "$\\color{red} \\beta$ : representa el parámetro de la escala\n",
        "$\\color{red}n$ : tamaño de la población o muetra según el caso\n",
        "\n",
        "\n",
        "Nota:\n",
        "\n",
        "La media de una distribución Gamma se calcula $\\color{red}{\\alpha * \\beta}$\n",
        "La desviación estándar es $\\color{red}{\\sqrt{\\alpha} * \\beta}$"
      ]
    },
    {
      "cell_type": "code",
      "metadata": {
        "id": "zCsfe4HDM6JP",
        "outputId": "e43b06fb-a9d5-4dc1-fbfb-ab4a535844ac",
        "colab": {
          "base_uri": "https://localhost:8080/",
          "height": 447
        }
      },
      "source": [
        "#Crear un distribucion gamma para estudiar el tiempo de ciclo de un proceso de desarrollo de sw, que tiene media = 4.2 días\n",
        "#definimos los parámetros\n",
        "a= 1.5\n",
        "b= 2.8\n",
        "size= 100\n",
        "\n",
        "tiempo_sw = np.random.gamma(a, b, size)\n",
        "\n",
        "plt.hist(tiempo_sw)\n",
        "plt.show\n",
        "\n",
        "media= np.mean(tiempo_sw)\n",
        "\n",
        "print('media: ', media)\n"
      ],
      "execution_count": 32,
      "outputs": [
        {
          "output_type": "stream",
          "name": "stdout",
          "text": [
            "media:  4.14497357898809\n"
          ]
        },
        {
          "output_type": "display_data",
          "data": {
            "text/plain": [
              "<Figure size 640x480 with 1 Axes>"
            ],
            "image/png": "[encoded data removed]"
          },
          "metadata": {}
        }
      ]
    },
    {
      "cell_type": "code",
      "metadata": {
        "id": "27lksci8RcZA",
        "outputId": "70b02214-20b5-4169-f93d-243508b54734",
        "colab": {
          "base_uri": "https://localhost:8080/",
          "height": 430
        }
      },
      "source": [
        "#Distribucion Gamma.  creamos otras gammas, variando a y b\n",
        "\n",
        "alfa = 1\n",
        "beta = 2\n",
        "alfa2 = 2\n",
        "beta2 = 2\n",
        "alfa3 = 8\n",
        "beta3 = 2\n",
        "size= 100\n",
        "\n",
        "gamma1= np.random.gamma(alfa, beta, size)\n",
        "gamma2= np.random.gamma(alfa2, beta2, size)\n",
        "gamma3= np.random.gamma(alfa3, beta3, size)\n",
        "\n",
        "plt.hist(gamma1, label=\"a=1\")\n",
        "plt.hist(gamma2, label=\"a=2\")\n",
        "plt.hist(gamma3, label=\"a=8\")\n",
        "plt.legend()\n",
        "plt.show()"
      ],
      "execution_count": 33,
      "outputs": [
        {
          "output_type": "display_data",
          "data": {
            "text/plain": [
              "<Figure size 640x480 with 1 Axes>"
            ],
            "image/png": "[encoded data removed]"
          },
          "metadata": {}
        }
      ]
    },
    {
      "cell_type": "code",
      "metadata": {
        "id": "zoUqUYkSi4w4",
        "outputId": "26ac9d42-96c2-4c1f-d6f6-4ba20f2dc7ab",
        "colab": {
          "base_uri": "https://localhost:8080/",
          "height": 534
        }
      },
      "source": [
        "#Crear un distribucion gamma para estudiar el tiempo de ciclo de un proceso de desarrollo de sw, que tiene media = 4.2 días\n",
        "#definimos los parámetros primer grupo (con mayor alfa que beta) llamado cola duck\n",
        "a1= 3\n",
        "b1= 1.4\n",
        "size= 10000\n",
        "\n",
        "tiempo_sw_duck = np.random.gamma(a1, b1, size)\n",
        "\n",
        "#definimos los parámetros segundo grupo (con mayor beta que alfa) llamado cola cat\n",
        "a2= 1\n",
        "b2= 4.19\n",
        "size= 10000\n",
        "\n",
        "tiempo_sw_cat = np.random.gamma(a2, b2, size)\n",
        "\n",
        "plt.hist(tiempo_sw_duck, bins=30, range=[0, 26], alpha=0.5, density=\"true\", label=\"duck\")\n",
        "plt.hist(tiempo_sw_cat, bins=30, range=[0, 26], alpha=0.3, density=\"true\", label=\"cat\")\n",
        "plt.legend()\n",
        "plt.show\n",
        "\n",
        "media1= np.mean(tiempo_sw_duck)\n",
        "percent85_1 = np.percentile(tiempo_sw_duck, 50)\n",
        "media2= np.mean(tiempo_sw_cat)\n",
        "percent85_2 = np.percentile(tiempo_sw_cat, 50)\n",
        "\n",
        "print('mean duck: ', media1)\n",
        "print('percentile 85 duck: ', percent85_1)\n",
        "print('mean cat: ', media2)\n",
        "print('percentile 85 cat: ', percent85_2)\n",
        "\n",
        "#SLA is >7\n",
        "SL_duck = stats.gamma(a1, b1).cdf(5)\n",
        "SL_cat = stats.gamma(a2, b2).cdf(5)\n",
        "\n",
        "print('Service level <5 days duck: ', SL_duck)\n",
        "print('Service level <5 days cat: ', SL_cat)"
      ],
      "execution_count": 34,
      "outputs": [
        {
          "output_type": "stream",
          "name": "stdout",
          "text": [
            "mean duck:  4.172035779696221\n",
            "percentile 85 duck:  3.734738439086801\n",
            "mean cat:  4.219813207598161\n",
            "percentile 85 cat:  2.965753658987988\n",
            "Service level <5 days duck:  0.6972531552839984\n",
            "Service level <5 days cat:  0.5551419337770586\n"
          ]
        },
        {
          "output_type": "display_data",
          "data": {
            "text/plain": [
              "<Figure size 640x480 with 1 Axes>"
            ],
            "image/png": "[encoded data removed]"
          },
          "metadata": {}
        }
      ]
    },
    {
      "cell_type": "markdown",
      "metadata": {
        "id": "BlguPFHsTF69"
      },
      "source": [
        "###7.5) Poisson\n",
        "\n",
        "La distribución Poisson se utiliza para contar de forma \"discreta\". Por ejemplo: cantidad de hijos, personas en una fila, camiones entrando a puerto, DPU (defector por unidad), pérdida de maletas por vuelo, cantidad de producción diaria, etc.\n",
        "\n",
        "Crearemos una distribución del tipo Poisson aleatoria en la cual se utilizan dos parámetros:\n",
        "\n",
        "$\\color{red}{\\lambda}$ (lambda) :: representa a la media de la población o muestra (e.g.: cantidad de personas promedio que llegana una cola de un banco por unidad de tiempo (hora)\n",
        "$\\color{red}n$ :: tamaño de la población o muetra según el caso\n",
        "Nota:\n",
        "\n",
        "* La media de una distribución Poisson es $\\color{red}{\\lambda}$\n",
        "\n",
        "\n",
        "* La desviación estándar es $\\color{red}{\\sqrt{\\lambda}}$"
      ]
    },
    {
      "cell_type": "code",
      "metadata": {
        "id": "WiKSDfvcTzVn",
        "outputId": "c8897760-de9f-4fd5-dc1d-72ba6367faae",
        "colab": {
          "base_uri": "https://localhost:8080/"
        }
      },
      "source": [
        "# Generemos una simulacion de la velocidad de un equipo de desarrollo de SW, quienes implementan en\n",
        "#promedio 3,3 funcionalidades por semana\n",
        "\n",
        "lambd = 3.3\n",
        "size = 100\n",
        "\n",
        "velocidad = np.random.poisson(lambd, size)\n",
        "\n",
        "#calcular media\n",
        "media= np.mean(velocidad)\n",
        "sigma= np.std(velocidad)\n",
        "\n",
        "print('media: ', media)\n",
        "print('desv std: ', sigma)\n"
      ],
      "execution_count": 35,
      "outputs": [
        {
          "output_type": "stream",
          "name": "stdout",
          "text": [
            "media:  3.21\n",
            "desv std:  1.531633115338004\n"
          ]
        }
      ]
    },
    {
      "cell_type": "code",
      "metadata": {
        "id": "Xk8D4nvkq1Qb",
        "outputId": "e5f06ad5-2a9a-4b22-8044-5cbcad1cdf72",
        "colab": {
          "base_uri": "https://localhost:8080/",
          "height": 334
        }
      },
      "source": [
        "#Graficar histograma\n",
        "plt.hist(velocidad)\n",
        "plt.show\n",
        "\n",
        "#Calculemos percentiles, con base en los datos simulados, buscar el valor mínimo que garantiza un 80% de seguridad de entrega semanal\n",
        "percentil20= np.percentile(velocidad, 20)\n",
        "print('p20: ', percentil20)\n",
        "print('con un 80% de seguridad el equipo entregará al menos 2,0 features por semana')\n",
        "\n",
        "\n",
        "#Cual es la probabilidad de entregar entre 0 y 4 funcionalidades\n",
        "#usar probabilidad de funcion cuantia/masa : .pmf\n",
        "\n",
        "cero = stats.poisson(lambd).pmf(0)\n",
        "una = stats.poisson(lambd).pmf(1)\n",
        "dos= stats.poisson(lambd).pmf(2)\n",
        "tres = stats.poisson(lambd).pmf(3)\n",
        "cuatro = stats.poisson(lambd).pmf(4)\n",
        "print ('prob entre 0 y 4 es: ', (cero + una + dos + tres + cuatro))\n",
        "\n",
        "#Otra forma es usar la funcion de dist. acumulada:  .cdf\n",
        "otra= stats.poisson(lambd).cdf(4)\n",
        "print('otra forma; ', otra)"
      ],
      "execution_count": null,
      "outputs": [
        {
          "output_type": "stream",
          "text": [
            "p20:  2.0\n",
            "con un 80% de seguridad el equipo entregará al menos 2,0 features por semana\n",
            "prob entre 0 y 4 es:  0.7625903756733358\n",
            "otra forma;  0.7625903756733357\n"
          ],
          "name": "stdout"
        },
        {
          "output_type": "display_data",
          "data": {
            "image/png": "[encoded data removed]",
            "text/plain": [
              "<Figure size 432x288 with 1 Axes>"
            ]
          },
          "metadata": {
            "tags": [],
            "needs_background": "light"
          }
        }
      ]
    },
    {
      "cell_type": "markdown",
      "metadata": {
        "id": "xApcUsRErtqS"
      },
      "source": [
        "####7.5.1) Montecarlo\n",
        "Qué ocurre si dado el lambda anterior, nos preguntarán cúantas funcionalidades se podrían crear en 10 semanas?..\n",
        "\n",
        "Seguramente responderíamos el lambdax10 = 33.  Pero este valor tiene cierta probabilidad de ocurrencia, al igual que los valores menores y mayores a ese. En este caso lo mejor aplicar un método llamado montecarlo."
      ]
    },
    {
      "cell_type": "code",
      "metadata": {
        "id": "INSoCA9zs9dD",
        "outputId": "0a068253-8fdb-4804-9eae-abfa7731afda",
        "colab": {
          "base_uri": "https://localhost:8080/",
          "height": 482
        }
      },
      "source": [
        "#Montecarlo\n",
        "semanas = 10\n",
        "media = lambd\n",
        "#simular 10 semanas y sumar\n",
        "a = np.random.poisson(lambd, 10)\n",
        "atotal= sum(a)\n",
        "print(atotal)\n",
        "\n",
        "#ahora replicar estos 10.000 veces y hacer histograma con las sumas de cada simulacion\n",
        "X=10 #es la cantidad de ciclos a simular\n",
        "m=10000 #es la cantidad de simulaciones a realizar de X ciclos\n",
        "totales=[] #Crearemos una Lista para almacenar la suma de las simulaciones de X ciclos\n",
        "for k in range(0, m):\n",
        "    suma=0\n",
        "    for i in range(0, X):\n",
        "        suma=sum(np.random.poisson(lambd, 10))\n",
        "    totales.append(suma)\n",
        "\n",
        "#hacemos histograma de las 10.000 semanas simuladas\n",
        "plt.hist(totales)\n",
        "plt.show\n",
        "\n",
        "#Calcular la prob de entregar exactamente 33 funcionalidades en 10 semanas\n",
        "prob33 = totales.count(33)\n",
        "print('probabilidad de entregar 33: ', prob33/len(totales))\n",
        "\n",
        "#es mejor calcular un valor que nos entregue un 85% de seguridad de cumplirse\n",
        "p15= np.percentile(totales, 15)\n",
        "print('percentil 15: ',p15)"
      ],
      "execution_count": 36,
      "outputs": [
        {
          "output_type": "stream",
          "name": "stdout",
          "text": [
            "33\n",
            "probabilidad de entregar 33:  0.0751\n",
            "percentil 15:  27.0\n"
          ]
        },
        {
          "output_type": "display_data",
          "data": {
            "text/plain": [
              "<Figure size 640x480 with 1 Axes>"
            ],
            "image/png": "[encoded data removed]"
          },
          "metadata": {}
        }
      ]
    },
    {
      "cell_type": "code",
      "metadata": {
        "id": "iqUd77RVqBIQ",
        "outputId": "426bc1a7-f9de-49ba-820d-8423dca76e97",
        "colab": {
          "base_uri": "https://localhost:8080/"
        }
      },
      "source": [
        "# Ejecutar Test de normalidad\n",
        "stats.anderson(velocidad, dist='norm')"
      ],
      "execution_count": 37,
      "outputs": [
        {
          "output_type": "execute_result",
          "data": {
            "text/plain": [
              "AndersonResult(statistic=1.8988506436774486, critical_values=array([0.555, 0.632, 0.759, 0.885, 1.053]), significance_level=array([15. , 10. ,  5. ,  2.5,  1. ]), fit_result=  params: FitParams(loc=3.21, scale=1.5393492000179683)\n",
              " success: True\n",
              " message: '`anderson` successfully fit the distribution to the data.')"
            ]
          },
          "metadata": {},
          "execution_count": 37
        }
      ]
    },
    {
      "cell_type": "markdown",
      "metadata": {
        "id": "N7Aw1X5tqQhF"
      },
      "source": [
        "En test anterior el valor arrojado es 1,9814, como este valor no es menor a 0,759 (para alfa=5%), se puede concluir que los datos No siguen una distribucón normal con 95% de seguridad.\n",
        "\n",
        "\n",
        "Qué pasa si el lamba es grande?"
      ]
    },
    {
      "cell_type": "code",
      "metadata": {
        "id": "zHP_I2C-qiQi",
        "outputId": "dd038958-59fd-4dc1-90f5-d6d295b2bf54",
        "colab": {
          "base_uri": "https://localhost:8080/",
          "height": 553
        }
      },
      "source": [
        "#Crear distribucion poisson con lambda = 121\n",
        "\n",
        "lambd2 = 121\n",
        "size = 100\n",
        "velocidad = np.random.poisson(lambd2, size)\n",
        "\n",
        "#calcular media\n",
        "media= np.mean(velocidad)\n",
        "sigma= np.std(velocidad)\n",
        "\n",
        "print('media: ', media)\n",
        "print('desv std: ', sigma)\n",
        "\n",
        "#Graficar histograma\n",
        "plt.hist(velocidad)\n",
        "plt.show\n",
        "\n",
        "\n",
        "#aplicar test de normalidad\n",
        "stats.anderson(velocidad, dist='norm')"
      ],
      "execution_count": 38,
      "outputs": [
        {
          "output_type": "stream",
          "name": "stdout",
          "text": [
            "media:  119.05\n",
            "desv std:  12.455821931932071\n"
          ]
        },
        {
          "output_type": "execute_result",
          "data": {
            "text/plain": [
              "AndersonResult(statistic=0.19909674305343117, critical_values=array([0.555, 0.632, 0.759, 0.885, 1.053]), significance_level=array([15. , 10. ,  5. ,  2.5,  1. ]), fit_result=  params: FitParams(loc=119.05, scale=12.518572061726788)\n",
              " success: True\n",
              " message: '`anderson` successfully fit the distribution to the data.')"
            ]
          },
          "metadata": {},
          "execution_count": 38
        },
        {
          "output_type": "display_data",
          "data": {
            "text/plain": [
              "<Figure size 640x480 with 1 Axes>"
            ],
            "image/png": "[encoded data removed]"
          },
          "metadata": {}
        }
      ]
    },
    {
      "cell_type": "markdown",
      "metadata": {
        "id": "JIRp-aSLrd5a"
      },
      "source": [
        "**qué podemos concluir?**\n",
        "\n",
        "la evidencia práctica y la visualización anterior del histograma de forma de campana gaussiana, demuestra que las distribuciones Poisson cuando exhiben un lambda grande, tienden a una Distribución Normal.\n",
        "\n",
        "Cuando el lambda es muy pequeño, tiende a una distribución Binomial.\n"
      ]
    },
    {
      "cell_type": "code",
      "metadata": {
        "id": "Eyn2gCkevacS",
        "outputId": "c9ac963f-71c6-4ca0-9283-3aff034075d7",
        "colab": {
          "base_uri": "https://localhost:8080/",
          "height": 499
        }
      },
      "source": [
        "#AHora imaginemos que tenemos que estudiar la cantidad de defectos que existe en cada producto construido\n",
        "#y tenemos que la media es 0,51 defectos por unidad\n",
        "#en este caso tambien aplica la distribucion de Poisson, simulemos 100 productos y sus defectos\n",
        "\n",
        "dpu= 0.51 #Defectos por unidad\n",
        "\n",
        "productos= np.random.poisson(dpu, 100)\n",
        "print(productos)\n",
        "plt.hist(productos)\n",
        "plt.show\n",
        "\n",
        "#calular la probabilidad de que un producto tenga 0 defecto, usar Scipy\n",
        "prob0 = stats.poisson(dpu).cdf(0)\n",
        "\n",
        "print('probabilidad de tener 0 defecto: ', prob0)\n",
        "\n",
        "\n",
        "\n"
      ],
      "execution_count": 39,
      "outputs": [
        {
          "output_type": "stream",
          "name": "stdout",
          "text": [
            "[0 3 0 0 0 0 1 1 0 0 0 0 1 1 0 2 1 0 1 0 0 1 1 1 1 0 1 1 1 0 0 2 0 2 0 0 1\n",
            " 0 0 1 0 2 0 0 0 1 0 0 0 1 0 1 0 2 0 1 0 1 0 2 1 2 2 1 1 0 2 1 0 0 1 0 0 0\n",
            " 0 0 1 1 0 0 0 1 0 0 3 1 1 0 0 0 0 0 0 0 1 1 0 1 1 0]\n",
            "probabilidad de tener 0 defecto:  0.6004955788122661\n"
          ]
        },
        {
          "output_type": "display_data",
          "data": {
            "text/plain": [
              "<Figure size 640x480 with 1 Axes>"
            ],
            "image/png": "[encoded data removed]"
          },
          "metadata": {}
        }
      ]
    },
    {
      "cell_type": "markdown",
      "metadata": {
        "id": "frYmhuWfm5RN"
      },
      "source": [
        "En este último ejemplo vimos la aplicación de poisson al control estadístico de procesos, la probabilidad de encontrar 0 defectos en un producto es 60%, este porcentaje se puede convertir a Z y luego calcular el Nivel Sigma del proceso."
      ]
    },
    {
      "cell_type": "markdown",
      "metadata": {
        "id": "u3eALlK1YknB"
      },
      "source": [
        "###7.6) Binomial\n",
        "\n",
        "La distribución binomial es una distribución de probabilidad discreta, que cuenta el número de éxitos en una secuencia de **n** ensayos de Bernoulli independientes entre sí, con una probabilidad fija **p** de ocurrencia del éxito entre los ensayos. Un experimento de Bernoulli se caracteriza por ser dicotómico, esto es, solo dos resultados son posibles. A uno de estos se denomina «éxito» y tiene una probabilidad de ocurrencia p y al otro, «fracaso», con una probabilidad2​ q = 1 - p.\n",
        "\n",
        "Parámetros n y p.\n",
        "\n",
        "Media= n*p\n",
        "\n",
        "desv. std =  Raiz (n * p * q)\n"
      ]
    },
    {
      "cell_type": "code",
      "metadata": {
        "id": "Ohi5LWujv9mR",
        "outputId": "f79e4728-8ae5-4da2-f105-e923a6854a80",
        "colab": {
          "base_uri": "https://localhost:8080/",
          "height": 0
        }
      },
      "source": [
        "#la probabilidad de que un producto sea defectuoso es 10%, y en una caja se encuentran 50 productos,\n",
        "#hacer un histograma con la cantidad de defectuosos que tendrían 100 cajas fabricadas\n",
        "n = 50\n",
        "p = 0.1\n",
        "\n",
        "caja = np.random.binomial(n, p, 100)\n",
        "print(caja)\n",
        "\n",
        "plt.hist(caja, density='true')\n",
        "plt.show\n",
        "\n",
        "\n",
        "#ahora calcular la probabilidad de que una caja tenga 6 o más productos no conformes\n",
        "#usar la funcion de dist. acumulada:  .cdf\n",
        "prob_6_o_mas = 1 - stats.binom(n, p).cdf(5)\n",
        "print('prob 6 o mas: ', prob_6_o_mas)\n",
        "\n",
        "\n",
        "#prob indiviudales\n",
        "cero = stats.binom(n, p).pmf(0)\n",
        "una = stats.binom(n, p).pmf(1)\n",
        "ocho = stats.binom(n, p).pmf(8)\n",
        "\n",
        "print('cero defectuoso:', cero)\n",
        "print('un defectuoso:', una)\n",
        "print('ocho defectuoso:', ocho)\n"
      ],
      "execution_count": 40,
      "outputs": [
        {
          "output_type": "stream",
          "name": "stdout",
          "text": [
            "[ 3  7  3  5  7  5  4  8  4  4  7  4  5  4  4  8  2  3  8  4  3  6  7  5\n",
            "  4  3  2  6  6  7 10  4  4  5  8  5  8  1  8  7  4  6  1  4  7  3  7  3\n",
            "  6  2  5  2  6  7  8  3  3  5  5  2  4  3  7  7  5  5  3  9  1  3  5  3\n",
            "  5  8  7  6  6 10  7  9  4  2  2  4  5  8  3  5  2  5  6  6  6  4  3  6\n",
            "  4  1  5  8]\n",
            "prob 6 o mas:  0.38387699227572325\n",
            "cero defectuoso: 0.005153775207320115\n",
            "un defectuoso: 0.028632084485111724\n",
            "ocho defectuoso: 0.06427787788318408\n"
          ]
        },
        {
          "output_type": "display_data",
          "data": {
            "text/plain": [
              "<Figure size 640x480 with 1 Axes>"
            ],
            "image/png": "[encoded data removed]"
          },
          "metadata": {}
        }
      ]
    },
    {
      "cell_type": "code",
      "metadata": {
        "id": "bdjzVKU3CduK",
        "outputId": "43be35e9-2dea-4ee6-9137-b21acb261111",
        "colab": {
          "base_uri": "https://localhost:8080/",
          "height": 0
        }
      },
      "source": [
        "# Graficando Binomial\n",
        "n = 50\n",
        "p = 0.1\n",
        "\n",
        "\n",
        "binomial = stats.binom(n, p) # Distribución\n",
        "x = np.arange(binomial.ppf(0.01),\n",
        "              binomial.ppf(0.99))\n",
        "fmp = binomial.pmf(x) # Función de Masa de Probabilidad\n",
        "plt.plot(x, fmp, '--')\n",
        "plt.vlines(x, 0, fmp, colors='b', lw=10, alpha=0.5)\n",
        "plt.title('Distribución Binomial')\n",
        "plt.ylabel('probabilidad')\n",
        "plt.xlabel('valores')\n",
        "plt.show()"
      ],
      "execution_count": 41,
      "outputs": [
        {
          "output_type": "display_data",
          "data": {
            "text/plain": [
              "<Figure size 640x480 with 1 Axes>"
            ],
            "image/png": "[encoded data removed]"
          },
          "metadata": {}
        }
      ]
    },
    {
      "cell_type": "markdown",
      "metadata": {
        "id": "n_XLf__59bCz"
      },
      "source": [
        "**Ejercicio:** en cada una de las diferentes competencias, jin tiene un 60% de posibilidades de ganar. Suponiendo que las competiciones sean independientes entre sí, ¿cuál es la probabilidad de que: Jin gane al menos 1 carrera?"
      ]
    },
    {
      "cell_type": "code",
      "metadata": {
        "id": "z--TM2N99XGc",
        "outputId": "1e2b3a7b-d562-425e-c642-741172b4f2bd",
        "colab": {
          "base_uri": "https://localhost:8080/"
        }
      },
      "source": [
        "#Cual es la probabilidad de ganar al menos 1 competencia\n",
        "\n",
        "n = 4\n",
        "p = 0.6\n",
        "\n",
        "#usar probabilidad de funcion cuantia/masa : .pmf\n",
        "\n",
        "cero = stats.binom(n, p).pmf(0)\n",
        "una = stats.binom(n, p).pmf(1)\n",
        "dos= stats.binom(n, p).pmf(2)\n",
        "tres = stats.binom(n, p).pmf(3)\n",
        "cuatro = stats.binom(n, p).pmf(4)\n",
        "\n",
        "prob = (1 - cero)\n",
        "\n",
        "print('probabilidad es: ', prob)\n",
        "\n",
        "#Otra forma es usar la funcion de dist. acumulada:  .cdf\n",
        "otra= stats.binom(n, p).cdf(0)\n",
        "print('otra forma; ', 1- otra)"
      ],
      "execution_count": 42,
      "outputs": [
        {
          "output_type": "stream",
          "name": "stdout",
          "text": [
            "probabilidad es:  0.9744\n",
            "otra forma;  0.9744\n"
          ]
        }
      ]
    },
    {
      "cell_type": "markdown",
      "metadata": {
        "id": "XkSM5JRCMiak"
      },
      "source": [
        "## 8)Visualizaciones\n",
        "\n",
        "crearemos gráficos aplicando la librería Matplotlib"
      ]
    },
    {
      "cell_type": "code",
      "metadata": {
        "id": "17kRsZEhM0gM",
        "outputId": "16d0cf2e-7180-4cd0-e905-dbe255df99da",
        "colab": {
          "base_uri": "https://localhost:8080/",
          "height": 447
        }
      },
      "source": [
        "#contamos con el tiempo de espera de clientes en el nuevo canal digital\n",
        "\n",
        "b=(100, 60, 55, 46, 27, 95, 55, 120, 41, 39, 80, 50, 71, 98, 66, 51)\n",
        "\n",
        "#hacer histograma\n",
        "plt.hist(b)\n",
        "plt.show"
      ],
      "execution_count": 43,
      "outputs": [
        {
          "output_type": "execute_result",
          "data": {
            "text/plain": [
              "<function matplotlib.pyplot.show(close=None, block=None)>"
            ]
          },
          "metadata": {},
          "execution_count": 43
        },
        {
          "output_type": "display_data",
          "data": {
            "text/plain": [
              "<Figure size 640x480 with 1 Axes>"
            ],
            "image/png": "[encoded data removed]"
          },
          "metadata": {}
        }
      ]
    },
    {
      "cell_type": "code",
      "metadata": {
        "id": "2_wadvSZOo7a",
        "outputId": "eb612dc9-7707-4706-84a3-403a253eaa68",
        "colab": {
          "base_uri": "https://localhost:8080/",
          "height": 447
        }
      },
      "source": [
        "#grafico de linea\n",
        "plt.plot(b)\n",
        "plt.show\n"
      ],
      "execution_count": 44,
      "outputs": [
        {
          "output_type": "execute_result",
          "data": {
            "text/plain": [
              "<function matplotlib.pyplot.show(close=None, block=None)>"
            ]
          },
          "metadata": {},
          "execution_count": 44
        },
        {
          "output_type": "display_data",
          "data": {
            "text/plain": [
              "<Figure size 640x480 with 1 Axes>"
            ],
            "image/png": "[encoded data removed]"
          },
          "metadata": {}
        }
      ]
    },
    {
      "cell_type": "code",
      "metadata": {
        "id": "N1L7gA2ROr5g",
        "outputId": "24ede738-b48f-40cc-efb2-7c6330331e88",
        "colab": {
          "base_uri": "https://localhost:8080/",
          "height": 447
        }
      },
      "source": [
        "#gràfico box plot\n",
        "plt.boxplot(b)\n",
        "plt.show\n"
      ],
      "execution_count": 45,
      "outputs": [
        {
          "output_type": "execute_result",
          "data": {
            "text/plain": [
              "<function matplotlib.pyplot.show(close=None, block=None)>"
            ]
          },
          "metadata": {},
          "execution_count": 45
        },
        {
          "output_type": "display_data",
          "data": {
            "text/plain": [
              "<Figure size 640x480 with 1 Axes>"
            ],
            "image/png": "[encoded data removed]"
          },
          "metadata": {}
        }
      ]
    },
    {
      "cell_type": "code",
      "metadata": {
        "id": "vLC2Ga6R-19F",
        "outputId": "980870d0-cb07-4280-9a81-02928b830fca",
        "colab": {
          "base_uri": "https://localhost:8080/",
          "height": 488
        }
      },
      "source": [
        "#Relacion entre Lealtad clientes (a) y tiempo esperando en el canal digital para ser atendido (b)\n",
        "a=(3, 5, 5, 7, 7, 4, 6, 3, 7, 7, 4, 6, 5, 3, 5, 5)\n",
        "\n",
        "\n",
        "plt.scatter(b, a)\n",
        "plt.title('Scatter Plot - relacion entre tiempo de atención y lealtad')\n",
        "plt.show()\n",
        "\n",
        "r=np.corrcoef(a, b)[0,1]\n",
        "r2=r*r\n",
        "print(\"coef correlacion: \", r)\n",
        "print(\"coef determinacion: \",r2)"
      ],
      "execution_count": 46,
      "outputs": [
        {
          "output_type": "display_data",
          "data": {
            "text/plain": [
              "<Figure size 640x480 with 1 Axes>"
            ],
            "image/png": "[encoded data removed]"
          },
          "metadata": {}
        },
        {
          "output_type": "stream",
          "name": "stdout",
          "text": [
            "coef correlacion:  -0.934783962235835\n",
            "coef determinacion:  0.873821056053327\n"
          ]
        }
      ]
    },
    {
      "cell_type": "code",
      "metadata": {
        "id": "_BG-VkRZPyvU",
        "outputId": "5a68b6b6-61fc-45cd-8fb2-0cfd0177595f",
        "colab": {
          "base_uri": "https://localhost:8080/",
          "height": 282
        }
      },
      "source": [
        "#se aplica mejora y se obtienen nuevos tiempos\n",
        "\n",
        "b1 = (27, 28, 28, 31, 34, 31, 67, 56, 21, 19, 31, 27, 32, 31, 42, 29)\n",
        "\n",
        "data=(b, b1)\n",
        "#comparar con boxplots\n",
        "plt.boxplot(data)\n",
        "plt.show\n"
      ],
      "execution_count": null,
      "outputs": [
        {
          "output_type": "execute_result",
          "data": {
            "text/plain": [
              "<function matplotlib.pyplot.show>"
            ]
          },
          "metadata": {
            "tags": []
          },
          "execution_count": 27
        },
        {
          "output_type": "display_data",
          "data": {
            "image/png": "[encoded data removed]",
            "text/plain": [
              "<Figure size 432x288 with 1 Axes>"
            ]
          },
          "metadata": {
            "tags": [],
            "needs_background": "light"
          }
        }
      ]
    },
    {
      "cell_type": "markdown",
      "metadata": {
        "id": "HiP44VHzl0U7"
      },
      "source": [
        "#C) **Material de apoyo**\n",
        "\n",
        "\n",
        "\n",
        "*   https://relopezbriega.github.io/blog/2016/06/29/distribuciones-de-probabilidad-con-python/\n",
        "*   https://blog.adrianistan.eu/estadistica-python-distribucion-binomial-normal-poisson-parte-vi\n",
        "*   https://www.redalyc.org/pdf/487/48711206.pdf\n",
        "\n",
        "\n"
      ]
    }
  ]
}