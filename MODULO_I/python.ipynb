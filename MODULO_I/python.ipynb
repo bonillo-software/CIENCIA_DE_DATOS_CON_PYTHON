{
  "cells": [
    {
      "cell_type": "markdown",
      "metadata": {
        "id": "DkRKT99fDid8"
      },
      "source": [
        "# Introducción a Python\n",
        "\n",
        "En este cuaderno aprenderás:\n",
        "- Tipos de datos (listas, diccionarios, ...)\n",
        "- Control de flujo (condiciones, bucles, ...)\n",
        "- Funciones\n"
      ]
    },
    {
      "cell_type": "code",
      "execution_count": null,
      "metadata": {
        "id": "RHBEYEP7Did-",
        "outputId": "c9078373-e54b-471e-dda0-471bbf31bf22"
      },
      "outputs": [
        {
          "name": "stdout",
          "output_type": "stream",
          "text": [
            "3\n"
          ]
        }
      ],
      "source": [
        "# Comprobar que usamos Python 3\n",
        "import sys\n",
        "print(sys.version[0])"
      ]
    },
    {
      "cell_type": "markdown",
      "metadata": {
        "id": "JhqYdBhnDid_"
      },
      "source": [
        "# 1. Tipos de datos simples:\n",
        "\n",
        "- Números\n",
        "  - **Enteros**: `int`\n",
        "  - **Punto flotante**: `float` (Decimales)\n",
        "- **Booleanos**: `bool` (Verdadero o falso)\n",
        "- **Strings**: `str` (Cadena de texto)"
      ]
    },
    {
      "cell_type": "code",
      "execution_count": null,
      "metadata": {
        "id": "zSLdAnpkDieA",
        "outputId": "1ecac7f6-1220-46be-a435-b0b867904887"
      },
      "outputs": [
        {
          "name": "stdout",
          "output_type": "stream",
          "text": [
            "<class 'int'>\n",
            "5\n"
          ]
        }
      ],
      "source": [
        "a = 5\n",
        "print(type(a))\n",
        "print(a)"
      ]
    },
    {
      "cell_type": "code",
      "execution_count": null,
      "metadata": {
        "id": "C03LyHATDieA",
        "outputId": "5875d6f9-8cf9-4790-cce0-42c5a685c2a2"
      },
      "outputs": [
        {
          "name": "stdout",
          "output_type": "stream",
          "text": [
            "<class 'float'>\n",
            "5.0\n"
          ]
        }
      ],
      "source": [
        "b = 5.0\n",
        "print(type(b))\n",
        "print(b)"
      ]
    },
    {
      "cell_type": "code",
      "execution_count": null,
      "metadata": {
        "id": "gQvU4oIXDieA",
        "outputId": "e62cadf2-245f-4c49-e179-28e61f8aee6e"
      },
      "outputs": [
        {
          "name": "stdout",
          "output_type": "stream",
          "text": [
            "<class 'bool'>\n"
          ]
        }
      ],
      "source": [
        "verdadero  = True\n",
        "falso      = False\n",
        "\n",
        "print(type(verdadero))"
      ]
    },
    {
      "cell_type": "markdown",
      "metadata": {
        "id": "mVuhHp0FDieA"
      },
      "source": [
        "## 1.1 Operaciones matemáticas"
      ]
    },
    {
      "cell_type": "code",
      "execution_count": null,
      "metadata": {
        "id": "TDXYRsfzDieB",
        "outputId": "c42edf90-e822-4d50-802a-01ac4707f58c"
      },
      "outputs": [
        {
          "name": "stdout",
          "output_type": "stream",
          "text": [
            "Suma: 6\n",
            "Resta: 4\n",
            "Multiplicación: 10\n",
            "División: 2.5\n",
            "División entera: 2\n",
            "Resto de la división: 1\n",
            "Exponente: 25\n"
          ]
        }
      ],
      "source": [
        "print(\"Suma:\",                 5 + 1)\n",
        "print(\"Resta:\",                5 - 1)\n",
        "print(\"Multiplicación:\",       5 * 2)\n",
        "print(\"División:\",             5 / 2)\n",
        "print(\"División entera:\",      5 // 2)\n",
        "print(\"Resto de la división:\", 5 % 2)\n",
        "print(\"Exponente:\",            5 ** 2)"
      ]
    },
    {
      "cell_type": "markdown",
      "metadata": {
        "id": "15-KFdN4DieB"
      },
      "source": [
        "## 1.2 Operaciones de comparación"
      ]
    },
    {
      "cell_type": "code",
      "execution_count": null,
      "metadata": {
        "id": "Ezf7IHNrDieB",
        "outputId": "66f1fbfa-efe2-4116-a1fa-2c576a7e6a3d"
      },
      "outputs": [
        {
          "name": "stdout",
          "output_type": "stream",
          "text": [
            "True\n",
            "True\n",
            "True\n",
            "True\n",
            "True\n",
            "True\n"
          ]
        }
      ],
      "source": [
        "print(5 == 5)  # Comparador de igualdad\n",
        "print(5 != 3)  # Comparador de desigualdad\n",
        "print(5 > 3)   # Comparador mayor que\n",
        "print(3 < 5)   # Comparador menor que\n",
        "print(5 >= 3)  # Comparador mayor o igual qu\n",
        "print(3 <= 5)  # Comparador menor o igual que"
      ]
    },
    {
      "cell_type": "markdown",
      "metadata": {
        "id": "__16hP_KDieC"
      },
      "source": [
        "## 1.3 Operaciones lógicas\n",
        "- **`and`**: Para que sea verdadero -> **TODOS tienen que ser verdaderos**\n",
        "- **`or`**: Para que sea verdadero -> **Al menos UNO tiene que ser verdaderos**\n",
        "- **`not`**: Hace que sea lo contrario"
      ]
    },
    {
      "cell_type": "code",
      "execution_count": null,
      "metadata": {
        "id": "EO0xsclSDieC",
        "outputId": "a3283cb7-93bb-483d-ead3-058313b67e82"
      },
      "outputs": [
        {
          "name": "stdout",
          "output_type": "stream",
          "text": [
            "verdadero and verdadero: True\n",
            "verdadero and falso:     False\n",
            "verdadero or verdadero:  True\n",
            "verdadero or falso:      True\n",
            "not verdadero:           False\n",
            "not falso:               True\n"
          ]
        }
      ],
      "source": [
        "verdadero = True\n",
        "falso     = False\n",
        "print(\"verdadero and verdadero:\", verdadero and verdadero)\n",
        "print(\"verdadero and falso:    \", verdadero and falso)\n",
        "print(\"verdadero or verdadero: \", verdadero or verdadero)\n",
        "print(\"verdadero or falso:     \", verdadero or falso)\n",
        "print(\"not verdadero:          \", not verdadero)\n",
        "print(\"not falso:              \", not falso)"
      ]
    },
    {
      "cell_type": "markdown",
      "metadata": {
        "id": "i6-Xj2AcDieC"
      },
      "source": [
        "## 1.4 Cadenas de texto (Strings)"
      ]
    },
    {
      "cell_type": "code",
      "execution_count": null,
      "metadata": {
        "id": "H0TjB4BnDieC",
        "outputId": "8616db70-2169-47cb-baa0-1fea70f888b7"
      },
      "outputs": [
        {
          "name": "stdout",
          "output_type": "stream",
          "text": [
            "Estoy aprendiendo\n"
          ]
        }
      ],
      "source": [
        "s1 = 'Estoy'       # Pueden ser comillas simples\n",
        "s2 = \"aprendiendo\" # O comillas dobles\n",
        "print(s1, s2)"
      ]
    },
    {
      "cell_type": "markdown",
      "metadata": {
        "id": "UzA_40wgDieC"
      },
      "source": [
        "### Concatenación de strings:  `+`"
      ]
    },
    {
      "cell_type": "code",
      "execution_count": null,
      "metadata": {
        "id": "t-qNH0ggDieC",
        "outputId": "225bffb4-4ac7-4935-9bae-58c12c005e06"
      },
      "outputs": [
        {
          "name": "stdout",
          "output_type": "stream",
          "text": [
            "Hola, Estoy aprendiendo.\n"
          ]
        }
      ],
      "source": [
        "frase = 'Hola, ' + s1 + \" \" + s2 + \".\"\n",
        "print(frase)"
      ]
    },
    {
      "cell_type": "markdown",
      "metadata": {
        "id": "QqbMdcKEDieC"
      },
      "source": [
        "### Longitud del string:  `len`"
      ]
    },
    {
      "cell_type": "code",
      "execution_count": null,
      "metadata": {
        "id": "sUJeKmBUDieC",
        "outputId": "c2649906-d52d-4b18-8e2f-749d26148fcd"
      },
      "outputs": [
        {
          "data": {
            "text/plain": [
              "24"
            ]
          },
          "execution_count": 10,
          "metadata": {},
          "output_type": "execute_result"
        }
      ],
      "source": [
        "len(frase)"
      ]
    },
    {
      "cell_type": "markdown",
      "metadata": {
        "id": "amkMhoAQDieD"
      },
      "source": [
        "### Separación por patrón:  `split`"
      ]
    },
    {
      "cell_type": "code",
      "execution_count": null,
      "metadata": {
        "id": "0-X2m-b6DieD",
        "outputId": "ef687c30-c036-4ace-b6ec-ed50bc3bd101"
      },
      "outputs": [
        {
          "data": {
            "text/plain": [
              "['Hola,', 'Estoy', 'aprendiendo.']"
            ]
          },
          "execution_count": 11,
          "metadata": {},
          "output_type": "execute_result"
        }
      ],
      "source": [
        "frase.split(' ')"
      ]
    },
    {
      "cell_type": "markdown",
      "metadata": {
        "id": "9oHSBYquDieD"
      },
      "source": [
        "# 2. Estructuras de datos\n",
        "Son tipos de datos que contienen datos simples.\n",
        "- **Listas**\n",
        "- **Tuplas**\n",
        "- **Diccionarios**\n",
        "- **Conjuntos**\n",
        "\n",
        "## 2.1 Listas\n",
        "Una lista guarda datos en orden. Los datos pueden ser de dititinto tipo."
      ]
    },
    {
      "cell_type": "code",
      "execution_count": null,
      "metadata": {
        "id": "za3kw9PqDieD",
        "outputId": "ad759349-1824-41fe-92db-b3fde869d616"
      },
      "outputs": [
        {
          "name": "stdout",
          "output_type": "stream",
          "text": [
            "['a', 'b', 'c', 'd']\n",
            "<class 'list'>\n",
            "a\n",
            "c\n"
          ]
        }
      ],
      "source": [
        "mi_lista = [\"a\", \"b\", \"c\", \"d\"]\n",
        "\n",
        "print(mi_lista)\n",
        "print(type(mi_lista))\n",
        "print(mi_lista[0])    # 0: Primer elemento de la lista\n",
        "print(mi_lista[2])    # 2: Tercer elemento de la lista"
      ]
    },
    {
      "cell_type": "markdown",
      "metadata": {
        "id": "plM1kDuvDieD"
      },
      "source": [
        "![](https://github.com/CenticMurcia/curso-ciencia-datos/blob/master/1.1-tools/img/stair.png?raw=1)"
      ]
    },
    {
      "cell_type": "markdown",
      "metadata": {
        "id": "7csUCgISDieD"
      },
      "source": [
        "### Modificar elementos de la lista"
      ]
    },
    {
      "cell_type": "code",
      "execution_count": null,
      "metadata": {
        "id": "QOiWE2HqDieD",
        "outputId": "3390b97c-cb5d-429e-9c09-739b35af0bee"
      },
      "outputs": [
        {
          "name": "stdout",
          "output_type": "stream",
          "text": [
            "['primero', 'b', 'c', 'd']\n"
          ]
        }
      ],
      "source": [
        "mi_lista[0] = 'primero'\n",
        "print(mi_lista)"
      ]
    },
    {
      "cell_type": "markdown",
      "metadata": {
        "id": "BKSSX4mADieD"
      },
      "source": [
        "### Añadir/quitar elementos de la lista"
      ]
    },
    {
      "cell_type": "code",
      "execution_count": null,
      "metadata": {
        "id": "y_8kwwfMDieD",
        "outputId": "6de9a8a1-ed16-414c-ab8e-f6d8b1ab8f22"
      },
      "outputs": [
        {
          "name": "stdout",
          "output_type": "stream",
          "text": [
            "['primero', 'b', 'c', 'd', 'último']\n",
            "['primero', 'b', 'c', 'd']\n"
          ]
        }
      ],
      "source": [
        "mi_lista.append('último')\n",
        "print(mi_lista)\n",
        "\n",
        "mi_lista.pop()\n",
        "print(mi_lista)"
      ]
    },
    {
      "cell_type": "markdown",
      "metadata": {
        "id": "nDjDYI1oDieD"
      },
      "source": [
        "### Acceder a varios elementos de la lista\n",
        "![](https://github.com/CenticMurcia/curso-ciencia-datos/blob/master/1.1-tools/img/slicing.jpg?raw=1)"
      ]
    },
    {
      "cell_type": "code",
      "execution_count": null,
      "metadata": {
        "id": "TfzySqeTDieD",
        "outputId": "a029939e-822a-4565-ef88-3396349b6d87"
      },
      "outputs": [
        {
          "name": "stdout",
          "output_type": "stream",
          "text": [
            "['o', 'g', 'r']\n",
            "['p', 'r', 'o', 'g']\n",
            "['a', 'm', 'i', 'z']\n",
            "['p', 'r', 'o', 'g', 'r', 'a', 'm', 'i', 'z']\n"
          ]
        }
      ],
      "source": [
        "l = ['p','r','o','g','r','a','m','i','z']\n",
        "\n",
        "print(l[2:5]) # Del 3o al 5o\n",
        "print(l[:-5]) # Del principio al 4o\n",
        "print(l[5:])  # Del 6o al final\n",
        "print(l[:])   # Del principio al final"
      ]
    },
    {
      "cell_type": "markdown",
      "metadata": {
        "id": "yzui4B8mDieD"
      },
      "source": [
        "## 2.2 Diccionarios\n",
        "\n",
        "Guarda pares de **clave: valor**"
      ]
    },
    {
      "cell_type": "code",
      "execution_count": null,
      "metadata": {
        "id": "QLrTBk71DieD"
      },
      "outputs": [],
      "source": [
        "d = { 'clave':   'valor',\n",
        "     'nombre':   'Pedro',\n",
        "     'apellido': 'García'}"
      ]
    },
    {
      "cell_type": "markdown",
      "metadata": {
        "id": "-8-CdIKCDieD"
      },
      "source": [
        "Acceder al valor a través de la clave:"
      ]
    },
    {
      "cell_type": "code",
      "execution_count": null,
      "metadata": {
        "id": "F48FXnd1DieE",
        "outputId": "af8a6000-d20a-4bec-c3ff-0dd92abfe15c"
      },
      "outputs": [
        {
          "name": "stdout",
          "output_type": "stream",
          "text": [
            "valor\n",
            "Pedro\n"
          ]
        }
      ],
      "source": [
        "print(d['clave'])\n",
        "print(d['nombre'])"
      ]
    },
    {
      "cell_type": "markdown",
      "metadata": {
        "id": "IYmioJx9DieE"
      },
      "source": [
        "**Iterar** diccionario (forma 1):"
      ]
    },
    {
      "cell_type": "code",
      "execution_count": null,
      "metadata": {
        "id": "Bc4LlVoaDieE",
        "outputId": "e9b51a2c-baf8-485f-e928-80a155ba53e7"
      },
      "outputs": [
        {
          "name": "stdout",
          "output_type": "stream",
          "text": [
            "La clave es clave y el valor es valor\n",
            "La clave es nombre y el valor es Pedro\n",
            "La clave es apellido y el valor es García\n"
          ]
        }
      ],
      "source": [
        "for clave in d:\n",
        "    print(\"La clave es \" + clave + \" y el valor es \" + d[clave])"
      ]
    },
    {
      "cell_type": "markdown",
      "metadata": {
        "id": "E2sQUuKrDieE"
      },
      "source": [
        "**Iterar** diccionario (forma 2):"
      ]
    },
    {
      "cell_type": "code",
      "execution_count": null,
      "metadata": {
        "id": "XlRjSCizDieE",
        "outputId": "7615c6da-bd80-4746-e284-898d80c0b9ef"
      },
      "outputs": [
        {
          "name": "stdout",
          "output_type": "stream",
          "text": [
            "La clave es clave, y el valor es valor\n",
            "La clave es nombre, y el valor es Pedro\n",
            "La clave es apellido, y el valor es García\n"
          ]
        }
      ],
      "source": [
        "for clave, valor in d.items():\n",
        "    print(\"La clave es \" + clave + \", y el valor es \" + valor)"
      ]
    },
    {
      "cell_type": "markdown",
      "metadata": {
        "id": "TnLrINM4DieE"
      },
      "source": [
        "## 2.3 Conjuntos\n",
        "Listas sin orden, que contiene elementos únicos"
      ]
    },
    {
      "cell_type": "code",
      "execution_count": null,
      "metadata": {
        "id": "RLbqxSbuDieE",
        "outputId": "e881ccb4-13e8-494a-9d27-9e6f1864ac57"
      },
      "outputs": [
        {
          "name": "stdout",
          "output_type": "stream",
          "text": [
            "{1, 2, 3, 'hello'}\n"
          ]
        }
      ],
      "source": [
        "c = {1, 2, 3, 'hello'}\n",
        "print(c)"
      ]
    },
    {
      "cell_type": "markdown",
      "metadata": {
        "id": "ufSc0wMaDieM"
      },
      "source": [
        "Si repetimos, no pasa nada, internamente sólo se guarda uno."
      ]
    },
    {
      "cell_type": "code",
      "execution_count": null,
      "metadata": {
        "id": "gK2aGWIvDieM",
        "outputId": "79bfd8db-2196-4558-e9f0-89603742d7d1"
      },
      "outputs": [
        {
          "name": "stdout",
          "output_type": "stream",
          "text": [
            "{1, 2, 3, 'hello'}\n"
          ]
        }
      ],
      "source": [
        "repes = {1, 2, 2, 2, 2, 2, 3, 'hello'}\n",
        "print(repes)"
      ]
    },
    {
      "cell_type": "markdown",
      "metadata": {
        "id": "MZ2MVO_nDieM"
      },
      "source": [
        "# 3. Control de flujo `if`, `elif`, `else`"
      ]
    },
    {
      "cell_type": "code",
      "execution_count": null,
      "metadata": {
        "id": "jY--0ZwJDieM",
        "outputId": "490d3ac7-a3dd-479a-bfb4-487b91aa9284"
      },
      "outputs": [
        {
          "name": "stdout",
          "output_type": "stream",
          "text": [
            "Échate la sista\n"
          ]
        }
      ],
      "source": [
        "sueño  = True\n",
        "hambre = False\n",
        "\n",
        "if sueño and hambre:\n",
        "    print(\"Come y échate la siesta.\")\n",
        "elif sueño and not hambre:\n",
        "    print(\"Échate la sista\")\n",
        "elif hambre and not sueño:\n",
        "    print(\"Come algo\")\n",
        "else:\n",
        "    print(\"Disfruta del día\")"
      ]
    },
    {
      "cell_type": "markdown",
      "metadata": {
        "id": "pNUobgrVDieM"
      },
      "source": [
        "# 4. Bucles (loops)\n",
        "Sirven para **iterar** varios elementos."
      ]
    },
    {
      "cell_type": "markdown",
      "metadata": {
        "id": "4i-Szr1hDieM"
      },
      "source": [
        "## 4.1  Bucle `for`\n",
        "Sirve para iterar un rangos, listas y diccionarios"
      ]
    },
    {
      "cell_type": "code",
      "execution_count": null,
      "metadata": {
        "id": "zYG2-PICDieM",
        "outputId": "c8436884-2d5f-41db-cbb5-f9b5d500788c"
      },
      "outputs": [
        {
          "name": "stdout",
          "output_type": "stream",
          "text": [
            "0\n",
            "1\n",
            "2\n",
            "3\n",
            "4\n",
            "5\n",
            "6\n",
            "7\n",
            "8\n",
            "9\n"
          ]
        }
      ],
      "source": [
        "for i in range(10):\n",
        "    print(i)"
      ]
    },
    {
      "cell_type": "markdown",
      "metadata": {
        "id": "5JQ3tmZ1DieM"
      },
      "source": [
        "Iterar una lista"
      ]
    },
    {
      "cell_type": "code",
      "execution_count": null,
      "metadata": {
        "id": "lKZU4bcZDieM",
        "outputId": "a6eb6207-9fb5-449f-938d-faf6c6496e73"
      },
      "outputs": [
        {
          "name": "stdout",
          "output_type": "stream",
          "text": [
            "perro\n",
            "gato\n",
            "leon\n",
            "oso\n"
          ]
        }
      ],
      "source": [
        "animales = ['perro', 'gato', 'leon', 'oso']\n",
        "\n",
        "for animal in animales:\n",
        "    print(animal)"
      ]
    },
    {
      "cell_type": "code",
      "execution_count": null,
      "metadata": {
        "id": "gveNMTi7DieN",
        "outputId": "a5a761d9-b1ef-4c05-b1de-98612ac6bd5d"
      },
      "outputs": [
        {
          "name": "stdout",
          "output_type": "stream",
          "text": [
            "0 perro\n",
            "1 gato\n",
            "2 leon\n",
            "3 oso\n"
          ]
        }
      ],
      "source": [
        "for i, animal in enumerate(animales):\n",
        "    print(i, animal)"
      ]
    },
    {
      "cell_type": "markdown",
      "metadata": {
        "id": "De1BSk-0DieN"
      },
      "source": [
        "Iterar un diccionario:"
      ]
    },
    {
      "cell_type": "code",
      "execution_count": null,
      "metadata": {
        "id": "5uM58IS2DieN",
        "outputId": "a06a0fb7-b894-4f0f-c2a1-05422d61ba43"
      },
      "outputs": [
        {
          "name": "stdout",
          "output_type": "stream",
          "text": [
            "El perro ladra.\n",
            "El gato maulla.\n",
            "El león ruge.\n"
          ]
        }
      ],
      "source": [
        "sonidos_de_animales = {\n",
        "    'perro': 'ladra',\n",
        "    'gato': 'maulla',\n",
        "    'león': 'ruge'\n",
        "}\n",
        "\n",
        "for animal, sonido in sonidos_de_animales.items():\n",
        "    print(\"El \" + animal + \" \" + sonido + \".\")"
      ]
    },
    {
      "cell_type": "markdown",
      "metadata": {
        "id": "NGR_QxjyDieN"
      },
      "source": [
        "## 4.2 Bucle `while`\n",
        "Se usan para iterar con una condición."
      ]
    },
    {
      "cell_type": "code",
      "execution_count": null,
      "metadata": {
        "id": "-dY9U1JdDieN",
        "outputId": "e1a0a582-ed80-49f8-f9b8-691452fa8c19"
      },
      "outputs": [
        {
          "name": "stdout",
          "output_type": "stream",
          "text": [
            "0\n",
            "1\n",
            "2\n",
            "3\n",
            "4\n",
            "5\n",
            "6\n",
            "7\n",
            "8\n",
            "9\n"
          ]
        }
      ],
      "source": [
        "contador = 0\n",
        "while (contador < 10):\n",
        "    print(contador)\n",
        "    contador += 1 # Incrementar el contador +1"
      ]
    },
    {
      "cell_type": "markdown",
      "metadata": {
        "id": "_f02INKrDieN"
      },
      "source": [
        "## 4.3 List comprehensions"
      ]
    },
    {
      "cell_type": "markdown",
      "metadata": {
        "id": "5mtxKxm0DieN"
      },
      "source": [
        "**Forma tradicional** de crear una lista: Empezar con una lista vacía y añadir elementos"
      ]
    },
    {
      "cell_type": "code",
      "execution_count": null,
      "metadata": {
        "id": "XVMHqKTvDieN",
        "outputId": "f93468da-d1e1-4819-85e0-e12b81115257"
      },
      "outputs": [
        {
          "data": {
            "text/plain": [
              "[0, 1, 4, 9, 16, 25, 36, 49, 64, 81]"
            ]
          },
          "execution_count": 28,
          "metadata": {},
          "output_type": "execute_result"
        }
      ],
      "source": [
        "cuadrados = []\n",
        "for n in range(10):\n",
        "    cuadrados.append(n**2)\n",
        "cuadrados"
      ]
    },
    {
      "cell_type": "markdown",
      "metadata": {
        "id": "LB5I0uq5DieN"
      },
      "source": [
        "**List comprehensions**: Otra forma de crear listas más compacta."
      ]
    },
    {
      "cell_type": "code",
      "execution_count": null,
      "metadata": {
        "id": "gFaTvAvFDieN",
        "outputId": "eda2a146-22e4-455c-d565-8215f641f42b"
      },
      "outputs": [
        {
          "data": {
            "text/plain": [
              "[0, 1, 4, 9, 16, 25, 36, 49, 64, 81]"
            ]
          },
          "execution_count": 29,
          "metadata": {},
          "output_type": "execute_result"
        }
      ],
      "source": [
        "cuadrados = [n**2 for n in range(10)]\n",
        "cuadrados"
      ]
    },
    {
      "cell_type": "code",
      "execution_count": null,
      "metadata": {
        "id": "PHIJwOlMDieN",
        "outputId": "474afd52-f3a7-4346-bae1-584f9a256e49"
      },
      "outputs": [
        {
          "name": "stdout",
          "output_type": "stream",
          "text": [
            "['A', 'B', 'C']\n"
          ]
        }
      ],
      "source": [
        "abc_mayus = [letra.upper() for letra in 'abc' ]\n",
        "print( abc_mayus)"
      ]
    },
    {
      "cell_type": "markdown",
      "metadata": {
        "id": "dWMN43NXDieN"
      },
      "source": [
        "## 4.4 Dict comprehensions"
      ]
    },
    {
      "cell_type": "code",
      "execution_count": null,
      "metadata": {
        "id": "CUsMQ0jFDieN",
        "outputId": "5edbfa1e-fa9a-4cde-f8fa-62a93002943b"
      },
      "outputs": [
        {
          "data": {
            "text/plain": [
              "{0: 0, 1: 1, 2: 4, 3: 9, 4: 16, 5: 25, 6: 36, 7: 49, 8: 64, 9: 81}"
            ]
          },
          "execution_count": 31,
          "metadata": {},
          "output_type": "execute_result"
        }
      ],
      "source": [
        "cuadrados = {n: n**2 for n in range(10)}\n",
        "cuadrados"
      ]
    },
    {
      "cell_type": "markdown",
      "metadata": {
        "id": "79U4Id4yDieN"
      },
      "source": [
        "# 5. Funciones\n",
        "\n",
        "Una función es un bloque de código reutilizable. Una vez creada, se puede **llamar** en cualquier momento.\n",
        "\n",
        "- Una funcion puede (o no) tener parametros de entrada.\n",
        "- Una función puede (o no) devolver algo como salida."
      ]
    },
    {
      "cell_type": "markdown",
      "metadata": {
        "id": "SlTkD8y1DieN"
      },
      "source": [
        "Definir una función: (`def`)"
      ]
    },
    {
      "cell_type": "code",
      "execution_count": null,
      "metadata": {
        "id": "nvPZzP54DieO"
      },
      "outputs": [],
      "source": [
        "def es_primo(numero):\n",
        "    if (numero==1):\n",
        "        return False\n",
        "    elif (numero==2):\n",
        "        return True;\n",
        "    else:\n",
        "        for divisor in range(2,numero):\n",
        "            if(numero%divisor == 0):\n",
        "                return False\n",
        "        return True"
      ]
    },
    {
      "cell_type": "markdown",
      "metadata": {
        "id": "zadNx4MaDieO"
      },
      "source": [
        "Llamar a la función. (Tambien se puede decir invocar o ejecutar)"
      ]
    },
    {
      "cell_type": "code",
      "execution_count": null,
      "metadata": {
        "id": "I5IT9CccDieO",
        "outputId": "6729e564-d2d1-4c32-ec5c-b281008e9fb4"
      },
      "outputs": [
        {
          "name": "stdout",
          "output_type": "stream",
          "text": [
            "Es primo el 7? True\n",
            "Es primo el 8? False\n"
          ]
        }
      ],
      "source": [
        "print(\"Es primo el 7?\", es_primo(7))\n",
        "print(\"Es primo el 8?\", es_primo(8))"
      ]
    },
    {
      "cell_type": "markdown",
      "metadata": {
        "id": "SXHFKtc0DieO"
      },
      "source": [
        "# Extra: Clases\n",
        "Python también es un lenguaje orientado a objetos (prácticamente todo es un objeto: strings, listas, etc.). Pero en el mundo de la ciencia de datos no son muy habituales."
      ]
    },
    {
      "cell_type": "code",
      "execution_count": null,
      "metadata": {
        "id": "yj3K6Po5DieO"
      },
      "outputs": [],
      "source": [
        "class Persona:\n",
        "    def __init__(self, nombre, edad):\n",
        "        self.nombre = nombre\n",
        "        self.edad = edad\n",
        "    def cumpleaños(self):\n",
        "        self.edad += 1"
      ]
    },
    {
      "cell_type": "code",
      "execution_count": null,
      "metadata": {
        "id": "huRdI3WFDieO",
        "outputId": "78116b29-a112-49f5-814c-11b6858c9d89"
      },
      "outputs": [
        {
          "name": "stdout",
          "output_type": "stream",
          "text": [
            "Javi\n",
            "25\n",
            "26\n"
          ]
        }
      ],
      "source": [
        "javi = Persona(\"Javi\", 25)\n",
        "\n",
        "print(javi.nombre)\n",
        "print(javi.edad)\n",
        "\n",
        "javi.cumpleaños()\n",
        "print(javi.edad)"
      ]
    },
    {
      "cell_type": "markdown",
      "metadata": {
        "id": "Dy0Oxk8DDieO"
      },
      "source": [
        "----"
      ]
    }
  ],
  "metadata": {
    "kernelspec": {
      "display_name": "Python 3",
      "language": "python",
      "name": "python3"
    },
    "language_info": {
      "codemirror_mode": {
        "name": "ipython",
        "version": 3
      },
      "file_extension": ".py",
      "mimetype": "text/x-python",
      "name": "python",
      "nbconvert_exporter": "python",
      "pygments_lexer": "ipython3",
      "version": "3.7.4"
    },
    "colab": {
      "provenance": []
    }
  },
  "nbformat": 4,
  "nbformat_minor": 0
}
